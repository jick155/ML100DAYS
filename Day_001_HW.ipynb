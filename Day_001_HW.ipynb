{
 "cells": [
  {
   "cell_type": "markdown",
   "metadata": {},
   "source": [
    "# homework 1\n",
    "### 1. 你選的這組資料為何重要\n",
    "<font color='red' side = 8>choice dataset is google play app store  , it can be help to find some detail for company</font>\n",
    "### 2. 資料從何而來 (tips: 譬如提供者是誰、以什麼方式蒐集)\n",
    "<font color='red'>While many public datasets (on Kaggle and the like) provide Apple App Store data, and simple and easy web scraping.</font>\n",
    "### 3. 蒐集而來的資料型態為何\n",
    "<font color='red'>file is csv file , inside have str , int , float , date</font>\n",
    "### 4. 這組資料想解決的問題如何評估\n",
    "<font color='red'>有很多方面可以下手，舉其中一例: 從訂閱量 與 類別可以發現，某些訂閱量高的都集中在某類別上，這裡可以評估說 某類別是不是非常多人在關注。</font>\n",
    "\n",
    "\n"
   ]
  },
  {
   "cell_type": "markdown",
   "metadata": {},
   "source": [
    "# 作業2：\n",
    "\n",
    "### 想像你經營一個自由載客車隊，你希望能透過數據分析以提升業績，請你思考並描述你如何規劃整體的分析/解決方案：\n",
    "\n",
    "##### 1. 核心問題為何 (tips：如何定義 「提升業績 & 你的假設」)\n",
    "<font color='red'>核心主要是提高客人塔乘意願，如果人一多，相對獲利就上升。</font>\n",
    "##### 2. 資料從何而來 (tips：哪些資料可能會對你想問的問題產生影響 & 資料如何蒐集)\n",
    "<font color='red'>上車地點or下車地點or特殊活動,特殊地點,上車時間..等等 。資料收集主要可從1.實體車隊所提供的資訊，2.internet dataset </font>\n",
    "##### 3. 蒐集而來的資料型態為何\n",
    "<font color='red'> str , Datetime , int </font>\n",
    "##### 4. 你要回答的問題，其如何評估 (tips：你的假設如何驗證)\n",
    "<font color='red'>取其中一例來分析:從上車地點與時間做分析，可發現某時段某地方，需要的計程車比較多，這可以提早就地位standny，客人不會等太久，塔乘意願提高..等等</font>"
   ]
  },
  {
   "cell_type": "code",
   "execution_count": null,
   "metadata": {},
   "outputs": [],
   "source": []
  },
  {
   "cell_type": "markdown",
   "metadata": {},
   "source": [
    "## 練習時間\n",
    "#### 請寫一個函式用來計算 Mean Square Error\n",
    "$ MSE = \\frac{1}{n}\\sum_{i=1}^{n}{(Y_i - \\hat{Y}_i)^2} $\n",
    "\n",
    "### Hint: [如何取平方](https://googoodesign.gitbooks.io/-ezpython/unit-1.html)"
   ]
  },
  {
   "cell_type": "code",
   "execution_count": null,
   "metadata": {},
   "outputs": [],
   "source": []
  },
  {
   "cell_type": "code",
   "execution_count": 6,
   "metadata": {},
   "outputs": [],
   "source": [
    "import numpy as np\n",
    "import matplotlib.pyplot as plt\n",
    "import math"
   ]
  },
  {
   "cell_type": "code",
   "execution_count": 26,
   "metadata": {},
   "outputs": [
    {
     "name": "stdout",
     "output_type": "stream",
     "text": [
      "The Mean absolute error is 12.480\n"
     ]
    }
   ],
   "source": [
    "def mean_squared_error(y,yp):\n",
    "    \"\"\"\n",
    "    請完成這個 Function 後往下執行\n",
    "    Args:\n",
    "        - y: 實際值\n",
    "        - yp: 預測值\n",
    "    Return: MSE\n",
    "    \"\"\"\n",
    "    list1=[]\n",
    "    for i  in range(len(y)):\n",
    "        a=math.pow(y[i]-yp[i],2)\n",
    "        list1.append(a)\n",
    "    \n",
    "    return sum(list1)/len(list1)\n",
    "def mean_absolute_error(y, yp):\n",
    "    \"\"\"\n",
    "    計算 MAE\n",
    "    Args:\n",
    "        - y: 實際值\n",
    "        - yp: 預測值\n",
    "    Return:\n",
    "        - mae: MAE\n",
    "    \"\"\"\n",
    "    mae = MAE = sum(abs(y - yp)) / len(y)\n",
    "    return mae\n",
    "\n",
    "MAE = mean_absolute_error(y, y_hat)\n",
    "print(\"The Mean absolute error is %.3f\" % (MAE))"
   ]
  },
  {
   "cell_type": "code",
   "execution_count": 16,
   "metadata": {},
   "outputs": [
    {
     "name": "stdout",
     "output_type": "stream",
     "text": [
      "-12.744902866708166\n"
     ]
    },
    {
     "data": {
      "image/png": "[encoded data removed]",
      "text/plain": [
       "<Figure size 432x288 with 1 Axes>"
      ]
     },
     "metadata": {},
     "output_type": "display_data"
    }
   ],
   "source": [
    "w = 3\n",
    "b = 0.5\n",
    "\n",
    "x_lin = np.linspace(0, 100, 101)\n",
    "\n",
    "y = (x_lin + np.random.randn(101) * 5) * w + b\n",
    "print(y[0])\n",
    "plt.plot(x_lin, y, 'b.', label = 'data points')\n",
    "plt.title(\"Assume we have data points\")\n",
    "plt.legend(loc = 2)\n",
    "plt.show()"
   ]
  },
  {
   "cell_type": "code",
   "execution_count": 17,
   "metadata": {},
   "outputs": [
    {
     "name": "stdout",
     "output_type": "stream",
     "text": [
      "[  0.5   3.5   6.5   9.5  12.5  15.5  18.5  21.5  24.5  27.5  30.5  33.5\n",
      "  36.5  39.5  42.5  45.5  48.5  51.5  54.5  57.5  60.5  63.5  66.5  69.5\n",
      "  72.5  75.5  78.5  81.5  84.5  87.5  90.5  93.5  96.5  99.5 102.5 105.5\n",
      " 108.5 111.5 114.5 117.5 120.5 123.5 126.5 129.5 132.5 135.5 138.5 141.5\n",
      " 144.5 147.5 150.5 153.5 156.5 159.5 162.5 165.5 168.5 171.5 174.5 177.5\n",
      " 180.5 183.5 186.5 189.5 192.5 195.5 198.5 201.5 204.5 207.5 210.5 213.5\n",
      " 216.5 219.5 222.5 225.5 228.5 231.5 234.5 237.5 240.5 243.5 246.5 249.5\n",
      " 252.5 255.5 258.5 261.5 264.5 267.5 270.5 273.5 276.5 279.5 282.5 285.5\n",
      " 288.5 291.5 294.5 297.5 300.5]\n"
     ]
    },
    {
     "data": {
      "image/png": "[encoded data removed]",
      "text/plain": [
       "<Figure size 432x288 with 1 Axes>"
      ]
     },
     "metadata": {},
     "output_type": "display_data"
    }
   ],
   "source": [
    "y_hat = x_lin * w + b\n",
    "print(y_hat)\n",
    "plt.plot(x_lin, y, 'b.', label = 'data')\n",
    "plt.plot(x_lin, y_hat, 'r-', label = 'prediction')\n",
    "plt.title(\"Assume we have data points (And the prediction)\")\n",
    "plt.legend(loc = 2)\n",
    "plt.show()"
   ]
  },
  {
   "cell_type": "code",
   "execution_count": 27,
   "metadata": {},
   "outputs": [
    {
     "name": "stdout",
     "output_type": "stream",
     "text": [
      "The Mean squared error is 232.976\n",
      "The Mean absolute error is 12.480\n"
     ]
    }
   ],
   "source": [
    "# 執行 Function, 確認有沒有正常執行\n",
    "MSE = mean_squared_error(y, y_hat)\n",
    "MAE = mean_absolute_error(y, y_hat)\n",
    "print(\"The Mean squared error is %.3f\" % (MSE))\n",
    "print(\"The Mean absolute error is %.3f\" % (MAE))"
   ]
  }
 ],
 "metadata": {
  "anaconda-cloud": {},
  "kernelspec": {
   "display_name": "Python 3",
   "language": "python",
   "name": "python3"
  },
  "language_info": {
   "codemirror_mode": {
    "name": "ipython",
    "version": 3
   },
   "file_extension": ".py",
   "mimetype": "text/x-python",
   "name": "python",
   "nbconvert_exporter": "python",
   "pygments_lexer": "ipython3",
   "version": "3.5.5"
  }
 },
 "nbformat": 4,
 "nbformat_minor": 1
}
